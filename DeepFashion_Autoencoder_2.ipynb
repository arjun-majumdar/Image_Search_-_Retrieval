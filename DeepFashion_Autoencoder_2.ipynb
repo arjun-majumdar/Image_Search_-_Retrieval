{
  "nbformat": 4,
  "nbformat_minor": 0,
  "metadata": {
    "colab": {
      "name": "DeepFashion_Autoencoder-2.ipynb",
      "provenance": [],
      "collapsed_sections": []
    },
    "kernelspec": {
      "name": "python3",
      "display_name": "Python 3"
    },
    "language_info": {
      "name": "python"
    },
    "accelerator": "GPU",
    "widgets": {
      "application/vnd.jupyter.widget-state+json": {
        "ea25c3904f6a43e49793f0a46ca46699": {
          "model_module": "@jupyter-widgets/controls",
          "model_name": "HBoxModel",
          "state": {
            "_view_name": "HBoxView",
            "_dom_classes": [],
            "_model_name": "HBoxModel",
            "_view_module": "@jupyter-widgets/controls",
            "_model_module_version": "1.5.0",
            "_view_count": null,
            "_view_module_version": "1.5.0",
            "box_style": "",
            "layout": "IPY_MODEL_bd8b93ae38434a5e9f4ec38b7393632d",
            "_model_module": "@jupyter-widgets/controls",
            "children": [
              "IPY_MODEL_efbec2084c5f4822881aac248af9e876",
              "IPY_MODEL_a606959c749245be833f181c0f4fa332"
            ]
          }
        },
        "bd8b93ae38434a5e9f4ec38b7393632d": {
          "model_module": "@jupyter-widgets/base",
          "model_name": "LayoutModel",
          "state": {
            "_view_name": "LayoutView",
            "grid_template_rows": null,
            "right": null,
            "justify_content": null,
            "_view_module": "@jupyter-widgets/base",
            "overflow": null,
            "_model_module_version": "1.2.0",
            "_view_count": null,
            "flex_flow": null,
            "width": null,
            "min_width": null,
            "border": null,
            "align_items": null,
            "bottom": null,
            "_model_module": "@jupyter-widgets/base",
            "top": null,
            "grid_column": null,
            "overflow_y": null,
            "overflow_x": null,
            "grid_auto_flow": null,
            "grid_area": null,
            "grid_template_columns": null,
            "flex": null,
            "_model_name": "LayoutModel",
            "justify_items": null,
            "grid_row": null,
            "max_height": null,
            "align_content": null,
            "visibility": null,
            "align_self": null,
            "height": null,
            "min_height": null,
            "padding": null,
            "grid_auto_rows": null,
            "grid_gap": null,
            "max_width": null,
            "order": null,
            "_view_module_version": "1.2.0",
            "grid_template_areas": null,
            "object_position": null,
            "object_fit": null,
            "grid_auto_columns": null,
            "margin": null,
            "display": null,
            "left": null
          }
        },
        "efbec2084c5f4822881aac248af9e876": {
          "model_module": "@jupyter-widgets/controls",
          "model_name": "FloatProgressModel",
          "state": {
            "_view_name": "ProgressView",
            "style": "IPY_MODEL_c1fa9571cbb3409281f267fb8f07f7c3",
            "_dom_classes": [],
            "description": "100%",
            "_model_name": "FloatProgressModel",
            "bar_style": "success",
            "max": 289229,
            "_view_module": "@jupyter-widgets/controls",
            "_model_module_version": "1.5.0",
            "value": 289229,
            "_view_count": null,
            "_view_module_version": "1.5.0",
            "orientation": "horizontal",
            "min": 0,
            "description_tooltip": null,
            "_model_module": "@jupyter-widgets/controls",
            "layout": "IPY_MODEL_237f9ffc08294402a68e4eb2b0d44d56"
          }
        },
        "a606959c749245be833f181c0f4fa332": {
          "model_module": "@jupyter-widgets/controls",
          "model_name": "HTMLModel",
          "state": {
            "_view_name": "HTMLView",
            "style": "IPY_MODEL_f436fd6afc2f4caaa1d4d51c329184c3",
            "_dom_classes": [],
            "description": "",
            "_model_name": "HTMLModel",
            "placeholder": "​",
            "_view_module": "@jupyter-widgets/controls",
            "_model_module_version": "1.5.0",
            "value": " 289229/289229 [12:12&lt;00:00, 394.67it/s]",
            "_view_count": null,
            "_view_module_version": "1.5.0",
            "description_tooltip": null,
            "_model_module": "@jupyter-widgets/controls",
            "layout": "IPY_MODEL_7d7021613b2d424296007a381703ec8d"
          }
        },
        "c1fa9571cbb3409281f267fb8f07f7c3": {
          "model_module": "@jupyter-widgets/controls",
          "model_name": "ProgressStyleModel",
          "state": {
            "_view_name": "StyleView",
            "_model_name": "ProgressStyleModel",
            "description_width": "initial",
            "_view_module": "@jupyter-widgets/base",
            "_model_module_version": "1.5.0",
            "_view_count": null,
            "_view_module_version": "1.2.0",
            "bar_color": null,
            "_model_module": "@jupyter-widgets/controls"
          }
        },
        "237f9ffc08294402a68e4eb2b0d44d56": {
          "model_module": "@jupyter-widgets/base",
          "model_name": "LayoutModel",
          "state": {
            "_view_name": "LayoutView",
            "grid_template_rows": null,
            "right": null,
            "justify_content": null,
            "_view_module": "@jupyter-widgets/base",
            "overflow": null,
            "_model_module_version": "1.2.0",
            "_view_count": null,
            "flex_flow": null,
            "width": null,
            "min_width": null,
            "border": null,
            "align_items": null,
            "bottom": null,
            "_model_module": "@jupyter-widgets/base",
            "top": null,
            "grid_column": null,
            "overflow_y": null,
            "overflow_x": null,
            "grid_auto_flow": null,
            "grid_area": null,
            "grid_template_columns": null,
            "flex": null,
            "_model_name": "LayoutModel",
            "justify_items": null,
            "grid_row": null,
            "max_height": null,
            "align_content": null,
            "visibility": null,
            "align_self": null,
            "height": null,
            "min_height": null,
            "padding": null,
            "grid_auto_rows": null,
            "grid_gap": null,
            "max_width": null,
            "order": null,
            "_view_module_version": "1.2.0",
            "grid_template_areas": null,
            "object_position": null,
            "object_fit": null,
            "grid_auto_columns": null,
            "margin": null,
            "display": null,
            "left": null
          }
        },
        "f436fd6afc2f4caaa1d4d51c329184c3": {
          "model_module": "@jupyter-widgets/controls",
          "model_name": "DescriptionStyleModel",
          "state": {
            "_view_name": "StyleView",
            "_model_name": "DescriptionStyleModel",
            "description_width": "",
            "_view_module": "@jupyter-widgets/base",
            "_model_module_version": "1.5.0",
            "_view_count": null,
            "_view_module_version": "1.2.0",
            "_model_module": "@jupyter-widgets/controls"
          }
        },
        "7d7021613b2d424296007a381703ec8d": {
          "model_module": "@jupyter-widgets/base",
          "model_name": "LayoutModel",
          "state": {
            "_view_name": "LayoutView",
            "grid_template_rows": null,
            "right": null,
            "justify_content": null,
            "_view_module": "@jupyter-widgets/base",
            "overflow": null,
            "_model_module_version": "1.2.0",
            "_view_count": null,
            "flex_flow": null,
            "width": null,
            "min_width": null,
            "border": null,
            "align_items": null,
            "bottom": null,
            "_model_module": "@jupyter-widgets/base",
            "top": null,
            "grid_column": null,
            "overflow_y": null,
            "overflow_x": null,
            "grid_auto_flow": null,
            "grid_area": null,
            "grid_template_columns": null,
            "flex": null,
            "_model_name": "LayoutModel",
            "justify_items": null,
            "grid_row": null,
            "max_height": null,
            "align_content": null,
            "visibility": null,
            "align_self": null,
            "height": null,
            "min_height": null,
            "padding": null,
            "grid_auto_rows": null,
            "grid_gap": null,
            "max_width": null,
            "order": null,
            "_view_module_version": "1.2.0",
            "grid_template_areas": null,
            "object_position": null,
            "object_fit": null,
            "grid_auto_columns": null,
            "margin": null,
            "display": null,
            "left": null
          }
        }
      }
    }
  },
  "cells": [
    {
      "cell_type": "code",
      "metadata": {
        "id": "j2WyVGcOg0R7"
      },
      "source": [
        "import numpy as np\n",
        "\n",
        "import tensorflow as tf\n",
        "from tensorflow.keras import layers\n",
        "from tensorflow.keras.layers import Dense, Input, InputLayer\n",
        "from tensorflow.keras import Sequential\n",
        "from tensorflow.keras.models import Model\n",
        "from tensorflow.keras.initializers import RandomNormal, Constant\n",
        "import tensorflow\n",
        "from tensorflow.keras.preprocessing import image\n",
        "from tensorflow.keras.applications.resnet50 import ResNet50, preprocess_input\n",
        "from tensorflow.keras.applications.inception_v3 import InceptionV3, preprocess_input\n",
        "\n",
        "import pickle\n",
        "from numpy.linalg import norm\n",
        "import matplotlib.pyplot as plt\n",
        "import seaborn as sns\n",
        "import os, glob, pathlib, time\n",
        "import PIL\n",
        "import PIL.Image\n",
        "\n",
        "from tqdm import tqdm, tqdm_notebook\n",
        "# from ipywidgets import IntProgress\n",
        "\n"
      ],
      "execution_count": 1,
      "outputs": []
    },
    {
      "cell_type": "code",
      "metadata": {
        "id": "Mi9rN30YhMDa"
      },
      "source": [
        ""
      ],
      "execution_count": null,
      "outputs": []
    },
    {
      "cell_type": "code",
      "metadata": {
        "colab": {
          "base_uri": "https://localhost:8080/"
        },
        "id": "TQ44dpZShMt2",
        "outputId": "245bbfb4-0f76-4823-8fd6-a41221851102"
      },
      "source": [
        "print(f\"TensorFlow version: {tf.__version__}\")"
      ],
      "execution_count": 2,
      "outputs": [
        {
          "output_type": "stream",
          "text": [
            "TensorFlow version: 2.5.0\n"
          ],
          "name": "stdout"
        }
      ]
    },
    {
      "cell_type": "code",
      "metadata": {
        "colab": {
          "base_uri": "https://localhost:8080/"
        },
        "id": "16FSjJKehPXh",
        "outputId": "ed2a25bb-5660-41f5-9611-af70cfa6fb46"
      },
      "source": [
        "# Check for available GPU-\n",
        "gpu = tf.config.list_physical_devices('GPU')\n",
        "\n",
        "if len(gpu) == 0:\n",
        "    print(f\"There are no available GPU\")\n",
        "else:\n",
        "    print(f\"Available GPU: {gpu}\")"
      ],
      "execution_count": 3,
      "outputs": [
        {
          "output_type": "stream",
          "text": [
            "Available GPU: [PhysicalDevice(name='/physical_device:GPU:0', device_type='GPU')]\n"
          ],
          "name": "stdout"
        }
      ]
    },
    {
      "cell_type": "code",
      "metadata": {
        "id": "EPmJhgKehQis"
      },
      "source": [
        ""
      ],
      "execution_count": null,
      "outputs": []
    },
    {
      "cell_type": "code",
      "metadata": {
        "colab": {
          "base_uri": "https://localhost:8080/"
        },
        "id": "0U5Pk2wFhQta",
        "outputId": "f7228d82-4ac6-4f21-e083-f3b00291f991"
      },
      "source": [
        "from google.colab import drive\n",
        "drive.mount('/content/drive')"
      ],
      "execution_count": 7,
      "outputs": [
        {
          "output_type": "stream",
          "text": [
            "Mounted at /content/drive\n"
          ],
          "name": "stdout"
        }
      ]
    },
    {
      "cell_type": "code",
      "metadata": {
        "colab": {
          "base_uri": "https://localhost:8080/"
        },
        "id": "cXT8FkUMhXch",
        "outputId": "32fe239b-6664-42b2-d154-6e2e2ae5c8f1"
      },
      "source": [
        "# os.getcwd()\n",
        "os.listdir(\"/content/drive/MyDrive/\")"
      ],
      "execution_count": 8,
      "outputs": [
        {
          "output_type": "execute_result",
          "data": {
            "text/plain": [
              "['Getting started.pdf',\n",
              " 'Colab Notebooks',\n",
              " 'VGG18_Iterative_Pruning_95.43863490652879_Clustered_&_Fine_Tuned.h5',\n",
              " 'Registration International Researchers.gdoc',\n",
              " 'Cover_Letter-Data_Scientist.gdoc',\n",
              " 'grokking-deep-reinforcement-learning_pack.zip',\n",
              " 'openmoji-72x72-color.zip',\n",
              " 'Resume-Data_Analyst.gdoc',\n",
              " 'Resume.gdoc',\n",
              " 'VGG18_summed_gradients.h5',\n",
              " 'VGG18-pruned_not_trained_91.46.h5',\n",
              " 'Resume-AI_ML_Engineer.gdoc',\n",
              " 'Linnaeus_PhD_Presentation.gslides',\n",
              " 'ResNet18_best_trained_loss.pth',\n",
              " 'ResNet50__finetuned_best_trained_loss.pth',\n",
              " 'Viridios_AI_Test -Task_1.ipynb',\n",
              " 'Viridios_AI_Test_Task_2.ipynb',\n",
              " 'DeepFashion_filenames_inceptionnetv3.pickle',\n",
              " 'DeepFashion_features_inceptionnetv3.pickle',\n",
              " 'img.zip',\n",
              " 'DeepFashion_InceptionNetV3_Autoencoder_trained_weights.h5',\n",
              " 'DeepFashion_encoded_features_inceptionnetv3.pickle']"
            ]
          },
          "metadata": {
            "tags": []
          },
          "execution_count": 8
        }
      ]
    },
    {
      "cell_type": "code",
      "metadata": {
        "id": "3My7TPRKhY64"
      },
      "source": [
        "# Copy zipped image file from Google Drive to Colab directory-\n",
        "# !unzip \"/content/drive/MyDrive/img.zip\" -d \"/content/\""
      ],
      "execution_count": null,
      "outputs": []
    },
    {
      "cell_type": "code",
      "metadata": {
        "id": "hzspeMOKhiXN"
      },
      "source": [
        ""
      ],
      "execution_count": null,
      "outputs": []
    },
    {
      "cell_type": "code",
      "metadata": {
        "id": "jWp_WLo6hR5h"
      },
      "source": [
        "# Read pickled Python3 list containing 2048-d extracted feature representation per image-\n",
        "features_list = pickle.load(open(\"/content/drive/MyDrive/DeepFashion_features_inceptionnetv3.pickle\", \"rb\"))"
      ],
      "execution_count": 9,
      "outputs": []
    },
    {
      "cell_type": "code",
      "metadata": {
        "colab": {
          "base_uri": "https://localhost:8080/"
        },
        "id": "FIT-KgdUj7ap",
        "outputId": "a803aa83-3159-4180-e8e0-07dab82c5233"
      },
      "source": [
        "# Convert from Python3 list to numpy array-\n",
        "features_list_np = np.asarray(features_list)\n",
        "\n",
        "features_list_np.shape"
      ],
      "execution_count": 10,
      "outputs": [
        {
          "output_type": "execute_result",
          "data": {
            "text/plain": [
              "(289229, 2048)"
            ]
          },
          "metadata": {
            "tags": []
          },
          "execution_count": 10
        }
      ]
    },
    {
      "cell_type": "code",
      "metadata": {
        "id": "Whu3klHzjwof"
      },
      "source": [
        "del features_list"
      ],
      "execution_count": 11,
      "outputs": []
    },
    {
      "cell_type": "code",
      "metadata": {
        "id": "pG51C1kfj-tI"
      },
      "source": [
        ""
      ],
      "execution_count": 16,
      "outputs": []
    },
    {
      "cell_type": "code",
      "metadata": {
        "id": "9gqgS3ovkACe"
      },
      "source": [
        "# Read pickled Python3 list containing abolute path and filenames-\n",
        "filenames_list = pickle.load(open(\"/content/drive/MyDrive/DeepFashion_filenames_inceptionnetv3.pickle\", \"rb\"))"
      ],
      "execution_count": 12,
      "outputs": []
    },
    {
      "cell_type": "code",
      "metadata": {
        "colab": {
          "base_uri": "https://localhost:8080/"
        },
        "id": "Kp98RvGxkCIA",
        "outputId": "c0eac0b9-d3a4-4f5a-8699-4c11ed7625e1"
      },
      "source": [
        "features_list_np.shape[0], len(filenames_list)"
      ],
      "execution_count": 13,
      "outputs": [
        {
          "output_type": "execute_result",
          "data": {
            "text/plain": [
              "(289229, 289229)"
            ]
          },
          "metadata": {
            "tags": []
          },
          "execution_count": 13
        }
      ]
    },
    {
      "cell_type": "code",
      "metadata": {
        "colab": {
          "base_uri": "https://localhost:8080/",
          "height": 36
        },
        "id": "zXgBImnkkDnY",
        "outputId": "87a136e5-d3d3-407c-b0a8-602854869199"
      },
      "source": [
        "# Note that the absolute path contains Google colab path-\n",
        "filenames_list[1]"
      ],
      "execution_count": 14,
      "outputs": [
        {
          "output_type": "execute_result",
          "data": {
            "application/vnd.google.colaboratory.intrinsic+json": {
              "type": "string"
            },
            "text/plain": [
              "'/content/img/1981_Graphic_Ringer_Tee/img_00000002.jpg'"
            ]
          },
          "metadata": {
            "tags": []
          },
          "execution_count": 14
        }
      ]
    },
    {
      "cell_type": "code",
      "metadata": {
        "id": "Th4rzpT0kHRJ"
      },
      "source": [
        ""
      ],
      "execution_count": 19,
      "outputs": []
    },
    {
      "cell_type": "code",
      "metadata": {
        "id": "NjskVJhGkHWi"
      },
      "source": [
        "class Autoencoder(Model):\n",
        "    def __init__(self):\n",
        "        super(Autoencoder, self).__init__()\n",
        "        \n",
        "        self.encoder = Sequential([\n",
        "            InputLayer(input_shape = (2048, )),\n",
        "            Dense(\n",
        "                units = 1500, activation = 'relu',\n",
        "                kernel_initializer = tf.keras.initializers.glorot_normal(),\n",
        "                use_bias = True, bias_initializer = RandomNormal(mean = 0.0, stddev = 0.05)\n",
        "                 ),\n",
        "            Dense(\n",
        "                units = 1000, activation = 'relu',\n",
        "                kernel_initializer = tf.keras.initializers.glorot_normal(),\n",
        "                use_bias = True, bias_initializer = RandomNormal(mean = 0.0, stddev = 0.05)\n",
        "                 ),\n",
        "            Dense(\n",
        "                units = 500, activation = 'relu',\n",
        "                kernel_initializer = tf.keras.initializers.glorot_normal(),\n",
        "                use_bias = True, bias_initializer = RandomNormal(mean = 0.0, stddev = 0.05)\n",
        "                 ),\n",
        "            Dense(\n",
        "                units = 250, activation = 'relu',\n",
        "                kernel_initializer = tf.keras.initializers.glorot_normal(),\n",
        "                use_bias = True, bias_initializer = RandomNormal(mean = 0.0, stddev = 0.05)\n",
        "                 ),\n",
        "        ])\n",
        "\n",
        "        self.decoder = Sequential([\n",
        "            Dense(\n",
        "                units = 500, activation = 'relu',\n",
        "                kernel_initializer = tf.keras.initializers.glorot_normal(),\n",
        "                use_bias = True, bias_initializer = RandomNormal(mean = 0.0, stddev = 0.05)\n",
        "                 ),\n",
        "            Dense(\n",
        "                units = 1000, activation = 'relu',\n",
        "                kernel_initializer = tf.keras.initializers.glorot_normal(),\n",
        "                use_bias = True, bias_initializer = RandomNormal(mean = 0.0, stddev = 0.05)\n",
        "                 ),\n",
        "            Dense(\n",
        "                units = 1500, activation = 'relu',\n",
        "                kernel_initializer = tf.keras.initializers.glorot_normal(),\n",
        "                use_bias = True, bias_initializer = RandomNormal(mean = 0.0, stddev = 0.05)\n",
        "                 ),\n",
        "            Dense(\n",
        "                units = 2048, activation = 'sigmoid',\n",
        "                use_bias = True, bias_initializer = RandomNormal(mean = 0.0, stddev = 0.05)\n",
        "                 ),\n",
        "        ])\n",
        "    \n",
        "    def call(self, x):\n",
        "        encoded = self.encoder(x)\n",
        "        decoded = self.decoder(encoded)\n",
        "        return decoded\n",
        "    \n",
        "    def model(self):\n",
        "        x = Input(shape=(2048,))\n",
        "        return Model(inputs = [x], outputs = self.call(x))\n",
        "    \n",
        "\n",
        "           "
      ],
      "execution_count": 40,
      "outputs": []
    },
    {
      "cell_type": "code",
      "metadata": {
        "id": "RXUV4_fDGfLm"
      },
      "source": [
        ""
      ],
      "execution_count": null,
      "outputs": []
    },
    {
      "cell_type": "code",
      "metadata": {
        "id": "SoGu21LtkJhU"
      },
      "source": [
        "\"\"\"\n",
        "class Autoencoder(Model):\n",
        "    def __init__(self):\n",
        "        super(Autoencoder, self).__init__()\n",
        "        \n",
        "        self.encoder = Sequential([\n",
        "            InputLayer(input_shape = (2048, )),\n",
        "            Dense(\n",
        "                units = 1024, activation = 'relu',\n",
        "                kernel_initializer = tf.keras.initializers.glorot_normal(),\n",
        "                use_bias = True, bias_initializer = RandomNormal(mean = 0.0, stddev = 0.05)\n",
        "                 ),\n",
        "            Dense(\n",
        "                units = 512, activation = 'relu',\n",
        "                kernel_initializer = tf.keras.initializers.glorot_normal(),\n",
        "                use_bias = True, bias_initializer = RandomNormal(mean = 0.0, stddev = 0.05)\n",
        "                 ),\n",
        "            Dense(\n",
        "                units = 256, activation = 'relu',\n",
        "                kernel_initializer = tf.keras.initializers.glorot_normal(),\n",
        "                use_bias = True, bias_initializer = RandomNormal(mean = 0.0, stddev = 0.05)\n",
        "                 ),\n",
        "        ])\n",
        "    \n",
        "        self.decoder = Sequential([\n",
        "            Dense(\n",
        "                units = 512, activation = 'relu',\n",
        "                kernel_initializer = tf.keras.initializers.glorot_normal(),\n",
        "                use_bias = True, bias_initializer = RandomNormal(mean = 0.0, stddev = 0.05)\n",
        "                 ),\n",
        "            Dense(\n",
        "                units = 1024, activation = 'relu',\n",
        "                kernel_initializer = tf.keras.initializers.glorot_normal(),\n",
        "                use_bias = True, bias_initializer = RandomNormal(mean = 0.0, stddev = 0.05)\n",
        "                 ),\n",
        "            Dense(\n",
        "                units = 2048, activation = 'sigmoid',\n",
        "                use_bias = True, bias_initializer = RandomNormal(mean = 0.0, stddev = 0.05)\n",
        "                 ),\n",
        "        ])\n",
        "    \n",
        "    def call(self, x):\n",
        "        encoded = self.encoder(x)\n",
        "        decoded = self.decoder(encoded)\n",
        "        return decoded\n",
        "    \n",
        "    def model(self):\n",
        "        x = Input(shape=(2048,))\n",
        "        return Model(inputs = [x], outputs = self.call(x))\n",
        "\n",
        "\"\"\""
      ],
      "execution_count": 15,
      "outputs": []
    },
    {
      "cell_type": "code",
      "metadata": {
        "id": "1flxT_FYkJ-r"
      },
      "source": [
        ""
      ],
      "execution_count": 20,
      "outputs": []
    },
    {
      "cell_type": "code",
      "metadata": {
        "id": "gRCjzpEQkLL3"
      },
      "source": [
        "# Initialize and build defined autoencoder-\n",
        "model = Autoencoder()\n",
        "model.build(input_shape = (None, 2048))"
      ],
      "execution_count": 41,
      "outputs": []
    },
    {
      "cell_type": "code",
      "metadata": {
        "colab": {
          "base_uri": "https://localhost:8080/"
        },
        "id": "Ru-0ZPFul5om",
        "outputId": "6a13f64e-a283-4105-f4d3-2efbeec0156c"
      },
      "source": [
        "model.model().summary()"
      ],
      "execution_count": 42,
      "outputs": [
        {
          "output_type": "stream",
          "text": [
            "Model: \"model_2\"\n",
            "_________________________________________________________________\n",
            "Layer (type)                 Output Shape              Param #   \n",
            "=================================================================\n",
            "input_6 (InputLayer)         [(None, 2048)]            0         \n",
            "_________________________________________________________________\n",
            "sequential_4 (Sequential)    (None, 250)               5200250   \n",
            "_________________________________________________________________\n",
            "sequential_5 (Sequential)    (None, 2048)              5202048   \n",
            "=================================================================\n",
            "Total params: 10,402,298\n",
            "Trainable params: 10,402,298\n",
            "Non-trainable params: 0\n",
            "_________________________________________________________________\n"
          ],
          "name": "stdout"
        }
      ]
    },
    {
      "cell_type": "code",
      "metadata": {
        "colab": {
          "base_uri": "https://localhost:8080/"
        },
        "id": "7B4U7QpykLY_",
        "outputId": "5ef01c36-56e5-43a2-8484-c6abdace5ca2"
      },
      "source": [
        "model.summary()"
      ],
      "execution_count": 43,
      "outputs": [
        {
          "output_type": "stream",
          "text": [
            "Model: \"autoencoder_2\"\n",
            "_________________________________________________________________\n",
            "Layer (type)                 Output Shape              Param #   \n",
            "=================================================================\n",
            "sequential_4 (Sequential)    (None, 250)               5200250   \n",
            "_________________________________________________________________\n",
            "sequential_5 (Sequential)    (None, 2048)              5202048   \n",
            "=================================================================\n",
            "Total params: 10,402,298\n",
            "Trainable params: 10,402,298\n",
            "Non-trainable params: 0\n",
            "_________________________________________________________________\n"
          ],
          "name": "stdout"
        }
      ]
    },
    {
      "cell_type": "code",
      "metadata": {
        "colab": {
          "base_uri": "https://localhost:8080/"
        },
        "id": "PbzcZs6ckMiX",
        "outputId": "e942a00b-7f8c-4f93-da49-0b8aeaaa55d9"
      },
      "source": [
        "tot_params = 0\n",
        "\n",
        "for layer in model.trainable_weights:\n",
        "    loc_param = tf.math.count_nonzero(layer, axis = None).numpy()\n",
        "    tot_params += loc_param\n",
        "    print(f\"layer: {layer.shape} has {loc_param} wts\")\n",
        "    "
      ],
      "execution_count": 44,
      "outputs": [
        {
          "output_type": "stream",
          "text": [
            "layer: (2048, 1500) has 3072000 wts\n",
            "layer: (1500,) has 1500 wts\n",
            "layer: (1500, 1000) has 1500000 wts\n",
            "layer: (1000,) has 1000 wts\n",
            "layer: (1000, 500) has 500000 wts\n",
            "layer: (500,) has 500 wts\n",
            "layer: (500, 250) has 125000 wts\n",
            "layer: (250,) has 250 wts\n",
            "layer: (250, 500) has 125000 wts\n",
            "layer: (500,) has 500 wts\n",
            "layer: (500, 1000) has 500000 wts\n",
            "layer: (1000,) has 1000 wts\n",
            "layer: (1000, 1500) has 1500000 wts\n",
            "layer: (1500,) has 1500 wts\n",
            "layer: (1500, 2048) has 3071998 wts\n",
            "layer: (2048,) has 2048 wts\n"
          ],
          "name": "stdout"
        }
      ]
    },
    {
      "cell_type": "code",
      "metadata": {
        "colab": {
          "base_uri": "https://localhost:8080/"
        },
        "id": "1HAiATpRkN2b",
        "outputId": "a9568287-b72f-4d0e-bec5-7dc3b1d7c32e"
      },
      "source": [
        "print(f\"Total number of trainable parameters in Autoencoder: {tot_params}\")"
      ],
      "execution_count": 45,
      "outputs": [
        {
          "output_type": "stream",
          "text": [
            "Total number of trainable parameters in Autoencoder: 10402296\n"
          ],
          "name": "stdout"
        }
      ]
    },
    {
      "cell_type": "code",
      "metadata": {
        "id": "KcOMZ_0PkQ2p"
      },
      "source": [
        ""
      ],
      "execution_count": null,
      "outputs": []
    },
    {
      "cell_type": "code",
      "metadata": {
        "colab": {
          "base_uri": "https://localhost:8080/"
        },
        "id": "rrP4G75RkPd-",
        "outputId": "ff329ca4-ba0f-4d9d-b1a0-325f5640f276"
      },
      "source": [
        "# Sanity check-\n",
        "x = features_list_np[:5, :]\n",
        "x.shape"
      ],
      "execution_count": 46,
      "outputs": [
        {
          "output_type": "execute_result",
          "data": {
            "text/plain": [
              "(5, 2048)"
            ]
          },
          "metadata": {
            "tags": []
          },
          "execution_count": 46
        }
      ]
    },
    {
      "cell_type": "code",
      "metadata": {
        "colab": {
          "base_uri": "https://localhost:8080/"
        },
        "id": "vr3sZrp1kRO8",
        "outputId": "450a07a1-ef18-41e8-b895-506da2105962"
      },
      "source": [
        "x_encoded = model.encoder(x)\n",
        "x_encoded.shape"
      ],
      "execution_count": 47,
      "outputs": [
        {
          "output_type": "execute_result",
          "data": {
            "text/plain": [
              "TensorShape([5, 250])"
            ]
          },
          "metadata": {
            "tags": []
          },
          "execution_count": 47
        }
      ]
    },
    {
      "cell_type": "code",
      "metadata": {
        "colab": {
          "base_uri": "https://localhost:8080/"
        },
        "id": "46TG0vIKkSuF",
        "outputId": "808d732b-2c07-46bd-9100-fa4f3294b053"
      },
      "source": [
        "x_reconstructed = model.decoder(x_encoded)\n",
        "x_reconstructed.shape"
      ],
      "execution_count": 48,
      "outputs": [
        {
          "output_type": "execute_result",
          "data": {
            "text/plain": [
              "TensorShape([5, 2048])"
            ]
          },
          "metadata": {
            "tags": []
          },
          "execution_count": 48
        }
      ]
    },
    {
      "cell_type": "code",
      "metadata": {
        "id": "4_SJdzkPmXHA"
      },
      "source": [
        ""
      ],
      "execution_count": null,
      "outputs": []
    },
    {
      "cell_type": "code",
      "metadata": {
        "id": "RbtXrNMmkTvx"
      },
      "source": [
        "# Compile model-\n",
        "model.compile(\n",
        "    optimizer = tf.keras.optimizers.Adam(learning_rate = 0.001),\n",
        "    loss = tf.keras.losses.MeanSquaredError()\n",
        "    )"
      ],
      "execution_count": 49,
      "outputs": []
    },
    {
      "cell_type": "code",
      "metadata": {
        "id": "jNtV8x91kVGE"
      },
      "source": [
        "# Define early stopping criterion-\n",
        "early_stopping = tf.keras.callbacks.EarlyStopping(\n",
        "    monitor = 'loss', min_delta = 0.001, patience = 3, verbose = 0,\n",
        "    mode = 'auto', baseline = None, restore_best_weights = False\n",
        ")"
      ],
      "execution_count": 50,
      "outputs": []
    },
    {
      "cell_type": "code",
      "metadata": {
        "colab": {
          "base_uri": "https://localhost:8080/"
        },
        "id": "ETCLNIj7kWLH",
        "outputId": "3ea99950-1d29-4a3b-c6cb-530aed7ec962"
      },
      "source": [
        "# Train autoencoder-\n",
        "history = model.fit(\n",
        "    x = features_list_np, y = features_list_np,\n",
        "    epochs = 10, batch_size = 32,\n",
        "    callbacks = [early_stopping]\n",
        "    )"
      ],
      "execution_count": 51,
      "outputs": [
        {
          "output_type": "stream",
          "text": [
            "Epoch 1/10\n",
            "9039/9039 [==============================] - 38s 4ms/step - loss: 5.9626e-04\n",
            "Epoch 2/10\n",
            "9039/9039 [==============================] - 38s 4ms/step - loss: 4.8828e-04\n",
            "Epoch 3/10\n",
            "9039/9039 [==============================] - 38s 4ms/step - loss: 4.8828e-04\n",
            "Epoch 4/10\n",
            "9039/9039 [==============================] - 38s 4ms/step - loss: 4.8828e-04\n"
          ],
          "name": "stdout"
        }
      ]
    },
    {
      "cell_type": "code",
      "metadata": {
        "id": "1p721fFAkZPM"
      },
      "source": [
        ""
      ],
      "execution_count": null,
      "outputs": []
    },
    {
      "cell_type": "code",
      "metadata": {
        "colab": {
          "base_uri": "https://localhost:8080/"
        },
        "id": "gBTRl1i6khnZ",
        "outputId": "f7af1046-28ca-4954-9d39-031f25e4439c"
      },
      "source": [
        "history.history.keys()"
      ],
      "execution_count": 64,
      "outputs": [
        {
          "output_type": "execute_result",
          "data": {
            "text/plain": [
              "dict_keys(['loss'])"
            ]
          },
          "metadata": {
            "tags": []
          },
          "execution_count": 64
        }
      ]
    },
    {
      "cell_type": "code",
      "metadata": {
        "colab": {
          "base_uri": "https://localhost:8080/",
          "height": 458
        },
        "id": "0hDHX280kh9d",
        "outputId": "9f8b70ad-c9d6-4068-8867-f9dfa95ef325"
      },
      "source": [
        "plt.figure(figsize = (9, 7))\n",
        "\n",
        "plt.plot(history.history['loss'])\n",
        "plt.title(\"Autoencoder Training\")\n",
        "plt.xlabel(\"number of epochs\")\n",
        "plt.ylabel(\"loss\")\n",
        "plt.show()"
      ],
      "execution_count": 52,
      "outputs": [
        {
          "output_type": "display_data",
          "data": {
            "image/png": "[encoded data removed]",
            "text/plain": [
              "<Figure size 648x504 with 1 Axes>"
            ]
          },
          "metadata": {
            "tags": [],
            "needs_background": "light"
          }
        }
      ]
    },
    {
      "cell_type": "code",
      "metadata": {
        "id": "LyXid8rtrl9H"
      },
      "source": [
        ""
      ],
      "execution_count": null,
      "outputs": []
    },
    {
      "cell_type": "code",
      "metadata": {
        "id": "misxIDSlrmGY"
      },
      "source": [
        "# Save trained weights of Autoencoder model-\n",
        "model.save_weights(\"DeepFashion_InceptionNetV3_Autoencoder2_trained_weights.h5\", overwrite = True)"
      ],
      "execution_count": 74,
      "outputs": []
    },
    {
      "cell_type": "code",
      "metadata": {
        "id": "cX7b2Taxrswl"
      },
      "source": [
        ""
      ],
      "execution_count": null,
      "outputs": []
    },
    {
      "cell_type": "code",
      "metadata": {
        "id": "-0RNKSn7qa91"
      },
      "source": [
        ""
      ],
      "execution_count": 66,
      "outputs": []
    },
    {
      "cell_type": "code",
      "metadata": {
        "colab": {
          "base_uri": "https://localhost:8080/"
        },
        "id": "2aMwz_deqfdN",
        "outputId": "aa502910-9252-4a9a-fc97-a2c90114781a"
      },
      "source": [
        "x.shape, model.encoder(x).shape"
      ],
      "execution_count": 68,
      "outputs": [
        {
          "output_type": "execute_result",
          "data": {
            "text/plain": [
              "((5, 2048), TensorShape([5, 128]))"
            ]
          },
          "metadata": {
            "tags": []
          },
          "execution_count": 68
        }
      ]
    },
    {
      "cell_type": "code",
      "metadata": {
        "colab": {
          "base_uri": "https://localhost:8080/"
        },
        "id": "0en0G3ibqtVV",
        "outputId": "43a6413c-77eb-4867-e62e-301293378f59"
      },
      "source": [
        "range(features_list_np.shape[0])"
      ],
      "execution_count": 69,
      "outputs": [
        {
          "output_type": "execute_result",
          "data": {
            "text/plain": [
              "range(0, 289229)"
            ]
          },
          "metadata": {
            "tags": []
          },
          "execution_count": 69
        }
      ]
    },
    {
      "cell_type": "code",
      "metadata": {
        "colab": {
          "base_uri": "https://localhost:8080/"
        },
        "id": "_zDkvjFQrOpv",
        "outputId": "b7282160-1bfd-419d-f01f-b1f3065681a6"
      },
      "source": [
        "i = 10\n",
        "features_list_np[i, :].shape"
      ],
      "execution_count": 71,
      "outputs": [
        {
          "output_type": "execute_result",
          "data": {
            "text/plain": [
              "(2048,)"
            ]
          },
          "metadata": {
            "tags": []
          },
          "execution_count": 71
        }
      ]
    },
    {
      "cell_type": "code",
      "metadata": {
        "colab": {
          "base_uri": "https://localhost:8080/"
        },
        "id": "SnALhgI0rRTB",
        "outputId": "79c4b4df-fb88-4088-e954-166ed1d2e911"
      },
      "source": [
        "# model.encoder(features_list_np[0, :])\n",
        "i = 12\n",
        "features_list_np[i].reshape(1, 2048).shape"
      ],
      "execution_count": 79,
      "outputs": [
        {
          "output_type": "execute_result",
          "data": {
            "text/plain": [
              "(1, 2048)"
            ]
          },
          "metadata": {
            "tags": []
          },
          "execution_count": 79
        }
      ]
    },
    {
      "cell_type": "code",
      "metadata": {
        "id": "PBiWWqa0r8UA"
      },
      "source": [
        ""
      ],
      "execution_count": null,
      "outputs": []
    },
    {
      "cell_type": "markdown",
      "metadata": {
        "id": "TOSN-LsLsd05"
      },
      "source": [
        "Define a Python3 list variable that will store all of the encoded extracted features by appending them."
      ]
    },
    {
      "cell_type": "code",
      "metadata": {
        "colab": {
          "base_uri": "https://localhost:8080/",
          "height": 122,
          "referenced_widgets": [
            "ea25c3904f6a43e49793f0a46ca46699",
            "bd8b93ae38434a5e9f4ec38b7393632d",
            "efbec2084c5f4822881aac248af9e876",
            "a606959c749245be833f181c0f4fa332",
            "c1fa9571cbb3409281f267fb8f07f7c3",
            "237f9ffc08294402a68e4eb2b0d44d56",
            "f436fd6afc2f4caaa1d4d51c329184c3",
            "7d7021613b2d424296007a381703ec8d"
          ]
        },
        "id": "DAPfC8ZFqi6p",
        "outputId": "e841f366-0f2f-4ed4-d3e0-0dbdf77d1d92"
      },
      "source": [
        "features_encoded = []\n",
        "\n",
        "for i in tqdm.notebook.tqdm(range(features_list_np.shape[0])):\n",
        "# for i in tqdm_notebook(range(features_list_np.shape[0])):\n",
        "    features_encoded.append(model.encoder(features_list_np[i].reshape(1, 2048)))\n",
        "    "
      ],
      "execution_count": 80,
      "outputs": [
        {
          "output_type": "stream",
          "text": [
            "/usr/local/lib/python3.7/dist-packages/ipykernel_launcher.py:4: TqdmDeprecationWarning: This function will be removed in tqdm==5.0.0\n",
            "Please use `tqdm.notebook.tqdm` instead of `tqdm.tqdm_notebook`\n",
            "  after removing the cwd from sys.path.\n"
          ],
          "name": "stderr"
        },
        {
          "output_type": "display_data",
          "data": {
            "application/vnd.jupyter.widget-view+json": {
              "model_id": "ea25c3904f6a43e49793f0a46ca46699",
              "version_minor": 0,
              "version_major": 2
            },
            "text/plain": [
              "HBox(children=(FloatProgress(value=0.0, max=289229.0), HTML(value='')))"
            ]
          },
          "metadata": {
            "tags": []
          }
        },
        {
          "output_type": "stream",
          "text": [
            "\n"
          ],
          "name": "stdout"
        }
      ]
    },
    {
      "cell_type": "code",
      "metadata": {
        "id": "gY-PeHqcvQN5"
      },
      "source": [
        ""
      ],
      "execution_count": null,
      "outputs": []
    },
    {
      "cell_type": "code",
      "metadata": {
        "colab": {
          "base_uri": "https://localhost:8080/"
        },
        "id": "zXy-bVF6sVqX",
        "outputId": "79d1efaf-2c47-41c6-8003-8ca265f746c8"
      },
      "source": [
        "# Sanity check-\n",
        "features_list_np.shape[0], len(features_encoded)"
      ],
      "execution_count": 84,
      "outputs": [
        {
          "output_type": "execute_result",
          "data": {
            "text/plain": [
              "(289229, 289229)"
            ]
          },
          "metadata": {
            "tags": []
          },
          "execution_count": 84
        }
      ]
    },
    {
      "cell_type": "code",
      "metadata": {
        "id": "fQv8qjzUra2r"
      },
      "source": [
        "# Write these encoded extracted features to a pickle file so that we can use\n",
        "# them in the future without having to recalculate them-\n",
        "pickle.dump(features_encoded, open(\"DeepFashion_encoded_features_inceptionnetv3.pickle\", \"wb\"))"
      ],
      "execution_count": 85,
      "outputs": []
    },
    {
      "cell_type": "code",
      "metadata": {
        "id": "CxDFt3i3rZhi"
      },
      "source": [
        ""
      ],
      "execution_count": 85,
      "outputs": []
    },
    {
      "cell_type": "code",
      "metadata": {
        "id": "c5Qh9P33vWSR"
      },
      "source": [
        "# Copy extracted features to Google Drive-\n",
        "!cp DeepFashion_encoded_features_inceptionnetv3.pickle /content/drive/MyDrive/"
      ],
      "execution_count": 86,
      "outputs": []
    },
    {
      "cell_type": "code",
      "metadata": {
        "id": "wAWOFLCrwB9C"
      },
      "source": [
        ""
      ],
      "execution_count": 86,
      "outputs": []
    },
    {
      "cell_type": "code",
      "metadata": {
        "id": "M4eGEGQkwCH0"
      },
      "source": [
        ""
      ],
      "execution_count": null,
      "outputs": []
    }
  ]
}